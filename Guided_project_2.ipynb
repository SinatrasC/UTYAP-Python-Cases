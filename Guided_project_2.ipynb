{
  "nbformat": 4,
  "nbformat_minor": 0,
  "metadata": {
    "colab": {
      "name": "Guided_project_2.ipynb",
      "provenance": [],
      "collapsed_sections": []
    },
    "kernelspec": {
      "name": "python3",
      "display_name": "Python 3"
    },
    "language_info": {
      "name": "python"
    }
  },
  "cells": [
    {
      "cell_type": "markdown",
      "source": [
        "#Chapter 2\n",
        "##Object-oriented programming\n",
        "\n",
        "Your department receives a request to prepare a test software to digitalize the health insurance, logistics, and trading companies that can be expanded in the future.\n",
        "\n",
        "You come up with an idea: object-oriented programming. Your approach is to create classes for each company that will have different attributes and methods to digitalize some of their functions.   \n"
      ],
      "metadata": {
        "id": "L2QxMyW_Qs36"
      }
    },
    {
      "cell_type": "markdown",
      "source": [
        "### Health insurance\n",
        "#### Define the class\n",
        "You start with the health insurance company. \n",
        "\n",
        "You need to create a system for the supplemental health insurance registration process by taking different variables like age, chronic disease, and income into account. \n",
        "\n",
        "📌 Use the keyword \"class\" to create the class \"HealthInsurance\" \n",
        "\n",
        "📌 Use the \"__init__\" method to initialze the object's attributes: self, company_name, foundation_year, founder_name,  company_slogan, num_of_employees and num_of_clients.\n"
      ],
      "metadata": {
        "id": "wNu3jDRBTbcE"
      }
    },
    {
      "cell_type": "markdown",
      "source": [
        "#### Define the methods\n",
        "\n",
        "Next, define the methods of the class:\n",
        "\n",
        "1. print_report method: A method to print out information about the company. \n",
        "\n",
        "  📌 The report should have this structure: \n",
        "\n",
        "  \"The company *name*, was founded in *year*. The founder of the company is *founder_name*. \n",
        "\n",
        "  Company slogan: *company_slogan*\n",
        "\n",
        "  Number of employees: *number of employees*\n",
        "\n",
        "  Number of clients: *number of clients*\"\n",
        "\n",
        "2. sup_health_insurance method: A method to check the eligibility for supplemental health insurance. It should consider the parameters \"age\", \"chronic_disease\", and \"income\".\n",
        "\n",
        "  📌 Use if-else statements and logical operators.\n",
        "\n",
        "3. update_num_clients method: A method to update the attribute number of clients."
      ],
      "metadata": {
        "id": "jEV9hh49JxGt"
      }
    },
    {
      "cell_type": "code",
      "execution_count": null,
      "metadata": {
        "id": "jXBwGqV2OkvB"
      },
      "outputs": [],
      "source": [
        "#Define the \"HealthInsurance\" class\n",
        "\n",
        "    #Initialize the object's attributes\n",
        "    \n",
        "\n",
        "\n",
        "    #Define the print_report method\n",
        "    \n",
        "\n",
        "    #Define the sup_health_insurance method\n",
        "    \n",
        "      #if-else statements to check whether person can get supplemental insurance or not\n",
        "      \n",
        "\n",
        "    #Define the update_num_clients method\n",
        "    \n"
      ]
    },
    {
      "cell_type": "markdown",
      "source": [
        "#### Create the object \n",
        "Now that we created our class and initialized its attributes and methods, we can create the object “HI_company1” with the attributes: \n",
        "\n",
        "* Company_name “Healthy”\n",
        "\n",
        "* foundation_year “2012”\n",
        "\n",
        "* founder_name “Bob Mayer”\n",
        "\n",
        "* company_slogan “We care for you.” \n",
        "\n",
        "* num_of_employees “3500”\n",
        "\n",
        "* num_of_clients “13230”\n"
      ],
      "metadata": {
        "id": "4uxjmN3vGCFJ"
      }
    },
    {
      "cell_type": "code",
      "source": [
        "#Create the object \"HI_company1\" with it's attributes\n"
      ],
      "metadata": {
        "id": "MBeiD4dlatPD"
      },
      "execution_count": null,
      "outputs": []
    },
    {
      "cell_type": "markdown",
      "source": [
        "#### Let’s check if the methods work.\n",
        "\n",
        "There is a new customer that wants to register for supplemental health insurance. He is 45 years old, does not have a chronic disease, and has an income of 5000 dollars per month.\n",
        "\n",
        "📌 Use the sup_health_insurance method with this information. "
      ],
      "metadata": {
        "id": "V0larkhtGNjQ"
      }
    },
    {
      "cell_type": "code",
      "source": [
        "#Use the sup_health_insurance for the new customer\n"
      ],
      "metadata": {
        "id": "T9SibjcjwP1b"
      },
      "execution_count": null,
      "outputs": []
    },
    {
      "cell_type": "markdown",
      "source": [
        "Because the number of clients has increased, you should use the update_num_clients method. \n",
        "\n",
        "📌 The new_number will be 13231."
      ],
      "metadata": {
        "id": "FiFb7hhnCSql"
      }
    },
    {
      "cell_type": "code",
      "source": [
        "#Update the number of clients\n"
      ],
      "metadata": {
        "id": "FMto8ZjLa5rC"
      },
      "execution_count": null,
      "outputs": []
    },
    {
      "cell_type": "markdown",
      "source": [
        "To see the output of the latest update and check whether it worked or not, call the print_report method."
      ],
      "metadata": {
        "id": "4AcSJLsoH7kq"
      }
    },
    {
      "cell_type": "code",
      "source": [
        "#Call the print_report method for HI_company1\n"
      ],
      "metadata": {
        "id": "IrSkauee4Qkt"
      },
      "execution_count": null,
      "outputs": []
    },
    {
      "cell_type": "markdown",
      "source": [
        "### Logistic\n",
        "Let's continue with the next company from your brief.\n",
        "\n",
        "Storage plays a crucial part in logistics, and the company wants to track the status of inventory space with software and be able to make changes in the system whenever it is needed.\n",
        "\n",
        "Again, you need to create a class.\n",
        "\n",
        "📌 Use the keyword \"class\" to create the class \"Logistics\" \n",
        "\n",
        "📌 Use the \"__init__\" method to initialze the object's attributes: self, company_name, foundation_year, founder_name,  company_slogan, and inventory_space."
      ],
      "metadata": {
        "id": "EX3NFIF-baj3"
      }
    },
    {
      "cell_type": "markdown",
      "source": [
        "#### Define the methods\n",
        "\n",
        "Next, define the methods of the class:\n",
        "\n",
        "1. print_report method: A method to print out information about the company. \n",
        "\n",
        "  📌 The report should have this structure: \n",
        "\n",
        "  \"The company *name*, was founded in *year*. The founder of the company is *founder_name*. \n",
        "\n",
        "  Company slogan: *company_slogan*\n",
        "\n",
        "  Inventory space of the company: *inventory_space*\n",
        "\n",
        "\n",
        "2. update_inventory_space method: A method to update its inventory_space, and print a statement to describe the change.\n",
        "It should consider the parameter \"new_storage_space\".\n"
      ],
      "metadata": {
        "id": "nPfZUASS4BMg"
      }
    },
    {
      "cell_type": "code",
      "source": [
        "#Define the \"Logistics\" class\n",
        "\n",
        "    #Initialize the object's attributes \n",
        "    \n",
        "        \n",
        "    #Define the print_report method\n",
        "    \n",
        "\n",
        "    #Define the update_inventory_space method\n",
        "    \n",
        "\n"
      ],
      "metadata": {
        "id": "fq1787jDa_BI"
      },
      "execution_count": null,
      "outputs": []
    },
    {
      "cell_type": "markdown",
      "source": [
        "#### Create the object \n",
        "Now that we created our class and initialized its attributes and methods, we can create the object “logistic_company1” with the attributes: \n",
        "\n",
        "* Company_name “LogCom”\n",
        "\n",
        "* foundation_year “1990”\n",
        "\n",
        "* founder_name “Laura McCartey”\n",
        "\n",
        "* company_slogan “There is no place we cannot reach.” \n",
        "\n",
        "* inventory_space “2500”\n"
      ],
      "metadata": {
        "id": "AJOdGm82DJsy"
      }
    },
    {
      "cell_type": "code",
      "source": [
        "#Create the object \"logistic_company1\" with it's attributes\n"
      ],
      "metadata": {
        "id": "jZpgNxEU25R9"
      },
      "execution_count": null,
      "outputs": []
    },
    {
      "cell_type": "markdown",
      "source": [
        "\n",
        "#### Let’s check if the methods work.\n",
        "The logistics company plans to buy a new warehouse which will increase the inventory_space to 3000. \n",
        "\n",
        "📌 Call the update_inventory_space method to reflect this change in the system and then use the “print_report” method."
      ],
      "metadata": {
        "id": "g3Auswd8EMeE"
      }
    },
    {
      "cell_type": "code",
      "source": [
        "#Update the inventory space\n",
        "\n",
        "#Call the print_report method for logistic_company1\n"
      ],
      "metadata": {
        "id": "Kcxcr1MS3TLB"
      },
      "execution_count": null,
      "outputs": []
    },
    {
      "cell_type": "markdown",
      "source": [
        "### Trading\n",
        "The last company you need to digitalize is the trading one.\n",
        "\n",
        "You are expected to create a method to update the sales and expenses and calculate the revenue.\n",
        "\n",
        "As with the previous companies, you need to create a class.\n",
        "\n",
        "📌 Use the keyword \"class\" to create the class \"Trading\" \n",
        "\n",
        "📌 Use the \"__init__\" method to initialze the object's attributes: self, company_name, foundation_year, founder_name,  company_slogan, sales, expenses, and revenue.\n",
        "\n"
      ],
      "metadata": {
        "id": "CF-bba0xeH_G"
      }
    },
    {
      "cell_type": "markdown",
      "source": [
        "#### Define the methods\n",
        "\n",
        "Next, define the methods of the class:\n",
        "\n",
        "1. print_report method: A method to print out information about the company. \n",
        "\n",
        "  📌 The report should have this structure: \n",
        "\n",
        "  \"The company *name*, was founded in *year*. The founder of the company is *founder_name*. \n",
        "\n",
        "  Company slogan: *company_slogan*\n",
        "\n",
        "  Total sales: *sales*\n",
        "\n",
        "  Total expenses: *expenses*\n",
        "\n",
        "  Total revenue: *revenue*\n",
        "\n",
        "\n",
        "2. update_sales_and_expenses method: A method to update the sales and expenses.\n",
        "It should consider the parameters \"new_sales\" and \"new_expenses\".\n",
        "\n",
        "3. calculate_revenue method: A method  which computes the difference between sales and expenses and prints out the revenue."
      ],
      "metadata": {
        "id": "KSp_pa-08F69"
      }
    },
    {
      "cell_type": "code",
      "source": [
        "#Define the \"Trading\" class\n",
        "\n",
        "    #Initialize the object's attributes \n",
        "    \n",
        "\n",
        "    #Define the print_report method\n",
        "    \n",
        "\n",
        "    #Define the update_sales_and_expenses method\n",
        "    \n",
        "\n",
        "    #Define the calculate_revenue method\n",
        "    "
      ],
      "metadata": {
        "id": "SGQJ507gd-m1"
      },
      "execution_count": null,
      "outputs": []
    },
    {
      "cell_type": "markdown",
      "source": [
        "#### Create the object \n",
        "Now that we created our class and initialized its attributes and methods, we can create the object “trading_company1” with the attributes: \n",
        "\n",
        "* Company_name “TraCom”\n",
        "\n",
        "* foundation_year “2005”\n",
        "\n",
        "* founder_name “Chong Wu”\n",
        "\n",
        "* company_slogan “We revolutionize trading.” \n",
        "\n",
        "* sales \"5000\"\n",
        "\n",
        "* expenses \"2000\"\n",
        "\n",
        "* revenue \"3000\""
      ],
      "metadata": {
        "id": "r94nvoLmIiON"
      }
    },
    {
      "cell_type": "code",
      "source": [
        "#Create the object \"trading_company1\" with it's attributes\n"
      ],
      "metadata": {
        "id": "ZukV3vH2ePH8"
      },
      "execution_count": null,
      "outputs": []
    },
    {
      "cell_type": "markdown",
      "source": [
        "#### Let’s check if the methods work.\n",
        "Update the sales and expenses. The sales went up by 100 and the expenses increased by 50.\n",
        "\n",
        "📌 Use the update_sales_and_expenses method with this information."
      ],
      "metadata": {
        "id": "lFoOC4JpYX0L"
      }
    },
    {
      "cell_type": "code",
      "source": [
        "#Update the sales and expenses\n"
      ],
      "metadata": {
        "id": "Cn0c-Nq27HDI"
      },
      "execution_count": null,
      "outputs": []
    },
    {
      "cell_type": "markdown",
      "source": [
        "After updating sale and expense informations, it is time to calculate the company revenue. \n",
        "\n",
        "📌 Use the calculate revenue method."
      ],
      "metadata": {
        "id": "PH28zb2WYrYl"
      }
    },
    {
      "cell_type": "code",
      "source": [
        "#Calculate the revenue\n"
      ],
      "metadata": {
        "id": "E5Yb-de-8AiK"
      },
      "execution_count": null,
      "outputs": []
    },
    {
      "cell_type": "markdown",
      "source": [
        "Finally, let’s check our company’s information."
      ],
      "metadata": {
        "id": "Z8QEH24AI0GA"
      }
    },
    {
      "cell_type": "code",
      "source": [
        "#Call the print_report method for trading_company1\n"
      ],
      "metadata": {
        "id": "jdEaNvGV_OD0"
      },
      "execution_count": null,
      "outputs": []
    }
  ]
}